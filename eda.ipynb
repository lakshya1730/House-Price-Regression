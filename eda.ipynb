{
 "cells": [
  {
   "cell_type": "code",
   "execution_count": 1,
   "metadata": {},
   "outputs": [],
   "source": [
    "import pandas as pd\n",
    "import numpy as np\n",
    "\n",
    "import seaborn as sns\n",
    "import matplotlib.pyplot as plt"
   ]
  },
  {
   "cell_type": "markdown",
   "metadata": {},
   "source": [
    "## Exploratory Data Analysis"
   ]
  },
  {
   "cell_type": "code",
   "execution_count": 2,
   "metadata": {
    "scrolled": true
   },
   "outputs": [],
   "source": [
    "df_house_prices = pd.read_csv('train.csv')"
   ]
  },
  {
   "cell_type": "markdown",
   "metadata": {},
   "source": [
    "##### Filling null values"
   ]
  },
  {
   "cell_type": "code",
   "execution_count": 3,
   "metadata": {},
   "outputs": [],
   "source": [
    "df_house_prices['Alley'] = df_house_prices['Alley'].fillna('No Alley')\n",
    "\n",
    "#Basement\n",
    "df_house_prices['BsmtQual'] = df_house_prices['BsmtQual'].fillna('No Basement')\n",
    "df_house_prices['BsmtCond'] = df_house_prices['BsmtCond'].fillna('No Basement')\n",
    "df_house_prices['BsmtExposure'] = df_house_prices['BsmtExposure'].fillna('No Basement')\n",
    "df_house_prices['BsmtFinType1'] = df_house_prices['BsmtFinType1'].fillna('No Basement')\n",
    "df_house_prices['BsmtFinType2'] = df_house_prices['BsmtFinType2'].fillna('No Basement')\n",
    "\n",
    "df_house_prices['Fence'] = df_house_prices['Fence'].fillna('No Fence')\n",
    "df_house_prices['PoolQC'] = df_house_prices['PoolQC'].fillna('No Pool')\n",
    "\n",
    "#Garage columns\n",
    "df_house_prices['FireplaceQu'] = df_house_prices['FireplaceQu'].fillna('No fireplace')\n",
    "df_house_prices['GarageType'] = df_house_prices['GarageType'].fillna('No Garage')\n",
    "df_house_prices['GarageQual'] = df_house_prices['GarageQual'].fillna('No Garage')\n",
    "df_house_prices['GarageFinish'] = df_house_prices['GarageFinish'].fillna('No Garage')"
   ]
  },
  {
   "cell_type": "code",
   "execution_count": 4,
   "metadata": {},
   "outputs": [
    {
     "data": {
      "image/png": "[encoded data removed]",
      "text/plain": [
       "<Figure size 432x288 with 1 Axes>"
      ]
     },
     "metadata": {
      "needs_background": "dark"
     },
     "output_type": "display_data"
    }
   ],
   "source": [
    "YearBuilt = df_house_prices['YearBuilt']\n",
    "sns.distplot(YearBuilt);"
   ]
  },
  {
   "cell_type": "code",
   "execution_count": 5,
   "metadata": {},
   "outputs": [],
   "source": [
    "numerical_cols = df_house_prices.describe().columns.tolist()"
   ]
  },
  {
   "cell_type": "code",
   "execution_count": 6,
   "metadata": {},
   "outputs": [],
   "source": [
    "columns = df_house_prices.columns.tolist()\n",
    "categorical_cols = np.setdiff1d(columns, numerical_cols, assume_unique=False).tolist()"
   ]
  },
  {
   "cell_type": "code",
   "execution_count": 7,
   "metadata": {},
   "outputs": [],
   "source": [
    "df_house_prices = pd.get_dummies(data=df_house_prices, columns = categorical_cols)"
   ]
  },
  {
   "cell_type": "code",
   "execution_count": 32,
   "metadata": {},
   "outputs": [
    {
     "data": {
      "text/plain": [
       "LotFrontage              0.351799\n",
       "LotArea                  0.263843\n",
       "OverallQual              0.790982\n",
       "YearBuilt                0.522897\n",
       "YearRemodAdd             0.507101\n",
       "                           ...   \n",
       "RoofStyle_Gable          0.224744\n",
       "RoofStyle_Hip            0.235897\n",
       "SaleCondition_Partial    0.352060\n",
       "SaleType_New             0.357509\n",
       "SaleType_WD              0.242598\n",
       "Name: SalePrice, Length: 75, dtype: float64"
      ]
     },
     "execution_count": 32,
     "metadata": {},
     "output_type": "execute_result"
    }
   ],
   "source": [
    "correlation = df_house_prices.corr()\n",
    "correlation\n",
    "cor_target = abs(correlation[\"SalePrice\"])\n",
    "relevant_features = cor_target[cor_target>0.2]\n",
    "relevant_features\n",
    "# sns.heatmap(relevant_features, annot=True, cmap=plt.cm.Reds)\n",
    "# plt.show()"
   ]
  },
  {
   "cell_type": "markdown",
   "metadata": {},
   "source": [
    "There are 38 columns which are numerical, the others are categorical. Most of the houses are built towards the years 2000 and more."
   ]
  },
  {
   "cell_type": "code",
   "execution_count": null,
   "metadata": {},
   "outputs": [],
   "source": [
    "zoning_classification = df_house_prices['MSZoning'].value_counts()"
   ]
  },
  {
   "cell_type": "code",
   "execution_count": null,
   "metadata": {},
   "outputs": [],
   "source": [
    "sns.barplot(zoning_classification.index,zoning_classification);"
   ]
  },
  {
   "cell_type": "markdown",
   "metadata": {},
   "source": [
    "Where are agricultural and commercial building classes?"
   ]
  },
  {
   "cell_type": "code",
   "execution_count": null,
   "metadata": {},
   "outputs": [],
   "source": [
    "property_flatness = df_house_prices['LandContour'].value_counts()"
   ]
  },
  {
   "cell_type": "code",
   "execution_count": null,
   "metadata": {},
   "outputs": [],
   "source": [
    "sns.barplot(property_flatness.index,property_flatness);"
   ]
  },
  {
   "cell_type": "code",
   "execution_count": null,
   "metadata": {},
   "outputs": [],
   "source": []
  }
 ],
 "metadata": {
  "kernelspec": {
   "display_name": "Python 3",
   "language": "python",
   "name": "python3"
  },
  "language_info": {
   "codemirror_mode": {
    "name": "ipython",
    "version": 3
   },
   "file_extension": ".py",
   "mimetype": "text/x-python",
   "name": "python",
   "nbconvert_exporter": "python",
   "pygments_lexer": "ipython3",
   "version": "3.7.5"
  }
 },
 "nbformat": 4,
 "nbformat_minor": 2
}
